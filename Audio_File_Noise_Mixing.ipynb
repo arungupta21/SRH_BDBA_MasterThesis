{
 "cells": [
  {
   "cell_type": "code",
   "execution_count": 1,
   "metadata": {},
   "outputs": [],
   "source": [
    "import os\n",
    "import wave\n",
    "\n",
    "from pydub import AudioSegment\n",
    "\n"
   ]
  },
  {
   "cell_type": "code",
   "execution_count": 4,
   "metadata": {},
   "outputs": [],
   "source": [
    "FOLDER_PATH = '.\\Experiments\\ProcessedData'"
   ]
  },
  {
   "cell_type": "code",
   "execution_count": 5,
   "metadata": {},
   "outputs": [],
   "source": [
    "\n",
    "# For each file in folder:\n",
    "\n",
    "## Read Experiment audio file in file_name\n",
    "## combine the file_name with noise_file\n",
    "## export the combined file as \"Noisy_\"+file_name\n",
    "## close the buffer/file\n",
    "\n",
    "\n",
    "#####---------------------------------------\n",
    "# Create a read buffer for Noise file\n",
    "noise_file_name = \"Office_Noise.wav\"\n",
    "noise_file_path = os.path.join(\".\\\\\", noise_file_name)\n",
    "noise_sound = AudioSegment.from_file(noise_file_path)\n",
    "\n",
    "\n",
    "for file_name in os.listdir(FOLDER_PATH):\n",
    "    \n",
    "    audio_file_path = os.path.join(FOLDER_PATH, file_name)    \n",
    "    sound = AudioSegment.from_file(audio_file_path)\n",
    "    \n",
    "    combined_file_name = \"Noisy_\" + file_name\n",
    "    \n",
    "    combined = sound.overlay(noise_sound)\n",
    "    \n",
    "    out_ = combined.export( os.path.join(\".\\\\Noise_Mixed_Files\", combined_file_name) , format='wav') \n",
    "    \n",
    "    out_.close()\n",
    "\n",
    "\n",
    "\n",
    "\n"
   ]
  },
  {
   "cell_type": "code",
   "execution_count": null,
   "metadata": {},
   "outputs": [],
   "source": [
    "\n",
    "\n",
    "for file_name in os.listdir(FOLDER_PATH):    \n",
    "    print(file_name)\n"
   ]
  },
  {
   "cell_type": "code",
   "execution_count": null,
   "metadata": {},
   "outputs": [],
   "source": [
    "type(out_)"
   ]
  },
  {
   "cell_type": "code",
   "execution_count": null,
   "metadata": {},
   "outputs": [],
   "source": [
    "combined_file_name"
   ]
  }
 ],
 "metadata": {
  "kernelspec": {
   "display_name": "Python 3",
   "language": "python",
   "name": "python3"
  },
  "language_info": {
   "codemirror_mode": {
    "name": "ipython",
    "version": 3
   },
   "file_extension": ".py",
   "mimetype": "text/x-python",
   "name": "python",
   "nbconvert_exporter": "python",
   "pygments_lexer": "ipython3",
   "version": "3.7.3"
  }
 },
 "nbformat": 4,
 "nbformat_minor": 2
}
