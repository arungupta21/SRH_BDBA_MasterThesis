{
 "cells": [
  {
   "cell_type": "code",
   "execution_count": null,
   "metadata": {},
   "outputs": [],
   "source": [
    "import numpy as np\n",
    "\n",
    "import pandas as pd\n",
    "\n",
    "import os\n",
    "\n",
    "import zipfile\n",
    "\n",
    "from pathlib import Path\n",
    "\n",
    "import  shutil\n"
   ]
  },
  {
   "cell_type": "markdown",
   "metadata": {},
   "source": [
    "## Pre-requisite: \n",
    "### All the folders containing the audio files should be placed as subfolders inside the folder '.\\\\Experiments'\n",
    "\n"
   ]
  },
  {
   "cell_type": "code",
   "execution_count": null,
   "metadata": {},
   "outputs": [],
   "source": [
    "# Main directory is '\\Experiments'\n",
    "\n",
    "folder = '.\\\\Experiments'\n",
    "\n",
    "ffmpeg = '.\\\\ffmpeg.exe -i '"
   ]
  },
  {
   "cell_type": "markdown",
   "metadata": {},
   "source": [
    "### Convert .M4A files to .WAV format"
   ]
  },
  {
   "cell_type": "code",
   "execution_count": null,
   "metadata": {
    "scrolled": true
   },
   "outputs": [],
   "source": [
    "\n",
    "\n",
    "# Get the list of subfolders \n",
    "\n",
    "# subfolder = [folder+ \"\\\\\" + dI for dI in os.listdir(folder) if os.path.isdir(os.path.join(folder, dI))]\n",
    "\n",
    "for root, dirs, files in os.walk(folder):    \n",
    "    print(root)\n",
    "    \n",
    "    for file in files:        \n",
    "        \n",
    "        # Get the list of .m4a files (list_m4a)\n",
    "        if file.endswith(\".m4a\"):\n",
    "            \n",
    "            # Get m4a file-name \n",
    "            m4a_filename = file\n",
    "            \n",
    "            # Create new file-name with ''.wav' extension\n",
    "            wav_filename = m4a_filename.replace('m4a', 'wav')\n",
    "            \n",
    "            ## Convert .m4a to .wav\n",
    "            # print(\"-----Processing: \" + file + \" -------\")\n",
    "            m4a_file_path = os.path.join(root, m4a_filename)\n",
    "            wav_file_path = os.path.join(root, wav_filename)\n",
    "            \n",
    "            # Create WAV file using .m4a\n",
    "            ffmpeg_command = ffmpeg + m4a_file_path + \" \" + wav_file_path\n",
    "            os.system(ffmpeg_command)\n",
    "            \n",
    "            # Delete .m4a file\n",
    "            del_command = \"del \" + m4a_file_path \n",
    "            os.system(del_command)\n",
    "\n",
    "            "
   ]
  },
  {
   "cell_type": "markdown",
   "metadata": {},
   "source": [
    "### Process the tracks (.WAV files) from Lavalier mics(Zoom recorder)"
   ]
  },
  {
   "cell_type": "code",
   "execution_count": null,
   "metadata": {},
   "outputs": [],
   "source": [
    "# Process Zoom recorder files, recorded through lavalier microphones\n",
    "\n",
    "# For each directory/folder\n",
    "## Rename the .WAV file from *_Tr?.wav to <Exp-ID>_Tr?.wav\n",
    "\n",
    "for root, dirs, files in os.walk(folder):    \n",
    "    #print(root)\n",
    "    \n",
    "    \n",
    "    # For each directory/folder in 'Experiment' folder\n",
    "    for dir in dirs:\n",
    "        \n",
    "        ## Get the directory path\n",
    "        dir_path = os.path.join(root, dir)\n",
    "        print (dir_path)\n",
    "        \n",
    "        ## For each file in dir_path\n",
    "        for filename in os.listdir(dir_path):\n",
    "            \n",
    "            src = \"\"\n",
    "            dst = \"\"\n",
    "            \n",
    "            ### Get the filename and extension\n",
    "            fileRoot, fileExtn = os.path.splitext(filename)\n",
    "            \n",
    "            if fileRoot.endswith('_Tr1') and fileExtn == '.WAV':\n",
    "                src = os.path.join(dir_path, filename) \n",
    "                dst = os.path.join(dir_path, dir + '_Tr1.wav') \n",
    "                \n",
    "                \n",
    "            if fileRoot.endswith('_Tr2') and fileExtn == '.WAV':\n",
    "                src = os.path.join(dir_path, filename) \n",
    "                dst = os.path.join(dir_path, dir + '_Tr2.wav')\n",
    "                \n",
    "                \n",
    "            if fileRoot.endswith('_Tr3') and fileExtn == '.WAV':\n",
    "                src = os.path.join(dir_path, filename) \n",
    "                dst = os.path.join(dir_path, dir + '_Tr3.wav')               \n",
    "                \n",
    "                \n",
    "            if fileRoot.endswith('_Tr4') and fileExtn == '.WAV':\n",
    "                src = os.path.join(dir_path, filename) \n",
    "                dst = os.path.join(dir_path, dir + '_Tr4.wav')\n",
    "                \n",
    "            \n",
    "            if(src != \"\" and dst != \"\"):\n",
    "                # Rename the file\n",
    "                os.rename(src, dst) \n",
    "\n",
    "            \n",
    "            "
   ]
  },
  {
   "cell_type": "markdown",
   "metadata": {},
   "source": [
    "### Extract the file from .ZIP (this is for the recording data from LabTwin)"
   ]
  },
  {
   "cell_type": "code",
   "execution_count": null,
   "metadata": {},
   "outputs": [],
   "source": [
    "\n",
    "\n",
    "for root, dirs, files in os.walk(folder):    \n",
    "    print(root)\n",
    "    \n",
    "    for file in files: \n",
    "        \n",
    "         # For .ZIP files\n",
    "        if file.endswith(\".zip\"):\n",
    "            # print(\"Processing \" + file)\n",
    "            \n",
    "            # Get the name of the ZIP file\n",
    "            filename = os.path.splitext(os.path.basename(file))[0]\n",
    "           \n",
    "            zip = zipfile.ZipFile(os.path.join(root, file))\n",
    "\n",
    "            extract_path = os.path.join(root, filename) + \"_LabTwin\"\n",
    "\n",
    "            os.mkdir(extract_path)\n",
    "\n",
    "            # UPZIP the file with folder named as that of .ZIP file\n",
    "            zip.extractall(path=extract_path)\n",
    "            \n",
    "            \n",
    "            # Process LabTwin files\n",
    "            ## Rename the .WAV file in '\\audio' subfolder to <EXP-ID>.WAV\n",
    "            output_folder_path = os.path.join(extract_path, 'audio')\n",
    "            \n",
    "            for count, srcWAVfile in enumerate(os.listdir(  output_folder_path )): \n",
    "                dst = os.path.join(output_folder_path, filename + \".wav\")\n",
    "                src = os.path.join(output_folder_path, srcWAVfile) \n",
    "                \n",
    "                os.rename(src, dst)            \n",
    "            \n",
    "            ## Rename the .CSV file in the 'extract_path' to <EXP-ID>.CSV\n",
    "            src_file_path = os.path.join(extract_path, 'export.csv')\n",
    "            dest_file_path = os.path.join(extract_path, filename + '.csv')\n",
    "            \n",
    "            os.rename(src_file_path, dest_file_path)\n",
    "            \n",
    "            \n",
    "            \n",
    "            \n",
    "            "
   ]
  },
  {
   "cell_type": "markdown",
   "metadata": {},
   "source": [
    "## Conglomerate .WAV files into one folder (no subfolders)\n"
   ]
  },
  {
   "cell_type": "code",
   "execution_count": null,
   "metadata": {},
   "outputs": [],
   "source": [
    "dest_folder = '.\\\\Experiments'\n",
    "\n",
    "for root, dirs, files in os.walk(folder):    \n",
    "    print(root)\n",
    "    \n",
    "    for file in files:\n",
    "        \n",
    "        if file.upper().endswith(\".WAV\") or file.upper().endswith(\".CSV\"):\n",
    "            src_path = os.path.join(root, file)\n",
    "            dest_path = os.path.join(dest_folder, file) \n",
    "            \n",
    "            print(\"src_path: \", src_path)\n",
    "            print(\"dest_path:\", dest_path)\n",
    "            print(\"\")\n",
    "            \n",
    "            shutil.copyfile(src_path, dest_path)\n",
    "        \n",
    "        \n",
    "            \n",
    "            \n",
    "        \n",
    "\n",
    "        "
   ]
  },
  {
   "cell_type": "markdown",
   "metadata": {},
   "source": [
    "## At this point, we have all the files are converted to .WAV format and are inside 'Experiment' folder"
   ]
  }
 ],
 "metadata": {
  "kernelspec": {
   "display_name": "Python 3",
   "language": "python",
   "name": "python3"
  },
  "language_info": {
   "codemirror_mode": {
    "name": "ipython",
    "version": 3
   },
   "file_extension": ".py",
   "mimetype": "text/x-python",
   "name": "python",
   "nbconvert_exporter": "python",
   "pygments_lexer": "ipython3",
   "version": "3.7.3"
  }
 },
 "nbformat": 4,
 "nbformat_minor": 2
}
